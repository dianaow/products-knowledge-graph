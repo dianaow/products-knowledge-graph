{
 "cells": [
  {
   "cell_type": "markdown",
   "metadata": {},
   "source": [
    "# Construct Knowledge Graph and store in Neo4j graph database "
   ]
  },
  {
   "cell_type": "markdown",
   "metadata": {},
   "source": [
    "Retrieve JSON file of web-scraped skincare products"
   ]
  },
  {
   "cell_type": "code",
   "execution_count": 23,
   "metadata": {},
   "outputs": [],
   "source": [
    "import json\n",
    "\n",
    "with open('graph.json', \"r\", encoding = \"utf-8\") as json_file:\n",
    "    nodes = json.load(json_file)"
   ]
  },
  {
   "cell_type": "code",
   "execution_count": 32,
   "metadata": {},
   "outputs": [],
   "source": [
    "#pip intall langchain\n",
    "\n",
    "from langchain.chat_models import ChatOpenAI\n",
    "\n",
    "import os\n",
    "from dotenv import load_dotenv\n",
    "load_dotenv()\n",
    "\n",
    "os.environ[\"OPENAI_API_KEY\"] = os.getenv(\"OPENAI_API_KEY\")\n",
    "\n",
    "# Initialize LLM\n",
    "llm = ChatOpenAI(temperature=0, model_name=\"gpt-3.5-turbo\")"
   ]
  },
  {
   "cell_type": "markdown",
   "metadata": {},
   "source": [
    "## Ingest graph into Neo4j"
   ]
  },
  {
   "cell_type": "code",
   "execution_count": null,
   "metadata": {},
   "outputs": [],
   "source": []
  },
  {
   "cell_type": "markdown",
   "metadata": {},
   "source": [
    "Connect to Neo4j database"
   ]
  },
  {
   "cell_type": "code",
   "execution_count": 45,
   "metadata": {},
   "outputs": [],
   "source": [
    "from langchain.graphs import Neo4jGraph\n",
    "\n",
    "graph = Neo4jGraph(\n",
    "    url=os.getenv(\"NEO4J_URI\"), \n",
    "    username=os.getenv(\"NEO4J_USERNAME\"), \n",
    "    password=os.getenv(\"NEO4J_PASSWORD\"),\n",
    "    database=os.getenv(\"NEO4J_DATABASE\")\n",
    ")"
   ]
  },
  {
   "cell_type": "code",
   "execution_count": 47,
   "metadata": {},
   "outputs": [],
   "source": [
    "def sanitize(text):\n",
    "    text = str(text).replace(\"'\",\"\").replace('\"','').replace('{','').replace('}', '').lower()\n",
    "    return text\n",
    "\n",
    "jsonData_relations = [obj for obj in nodes if 'title' not in obj]\n",
    "jsonData_entities = [obj for obj in nodes if 'title' in obj]\n",
    "\n",
    "# Loop through each JSON object and add them to the db\n",
    "unique_ids = set(obj['product_id'] for obj in nodes)\n",
    "for i in unique_ids:\n",
    "    # Filter the array based on the specified ID\n",
    "    filtered_relations = [obj for obj in jsonData_relations if obj['product_id'] == i]\n",
    "    product = [obj for obj in jsonData_entities if obj['product_id'] == i][0]\n",
    "    for obj in filtered_relations:\n",
    "        query = f'''\n",
    "            MERGE (product:Product {{id: {product['product_id']}}})\n",
    "            ON CREATE SET product.product = \"{product['product']}\", \n",
    "                        product.title = \"{product['title']}\", \n",
    "                        product.url = \"{product['product_url']}\", \n",
    "                        product.fav_num = \"{product['fav_num']}\", \n",
    "                        product.sold_num = \"{product['sold_num']}\", \n",
    "                        product.volume = \"{product['volume']}\",\n",
    "                        product.price = \"{product['price']}\"\n",
    "\n",
    "            MERGE (entity:{obj['entity_type']} {{title: \"{product['title']}\", value: \"{sanitize(obj['entity_value'])}\"}})\n",
    "\n",
    "            MERGE (product)-[:{obj['relationship']}]->(entity)\n",
    "            '''\n",
    "        graph.query(query)"
   ]
  },
  {
   "cell_type": "markdown",
   "metadata": {},
   "source": [
    "## Creating vector indexes"
   ]
  },
  {
   "cell_type": "code",
   "execution_count": 37,
   "metadata": {},
   "outputs": [],
   "source": [
    "from langchain.vectorstores.neo4j_vector import Neo4jVector\n",
    "from langchain.embeddings.openai import OpenAIEmbeddings\n",
    "embeddings_model = \"text-embedding-ada-002\""
   ]
  },
  {
   "cell_type": "code",
   "execution_count": 49,
   "metadata": {},
   "outputs": [],
   "source": [
    "vector_indexes = []\n",
    "\n",
    "def embed_entities(entity_type):\n",
    "    vector_index = Neo4jVector.from_existing_graph(\n",
    "        OpenAIEmbeddings(model=embeddings_model),\n",
    "        url=os.getenv(\"NEO4J_URI\"), \n",
    "        username=os.getenv(\"NEO4J_USERNAME\"), \n",
    "        password=os.getenv(\"NEO4J_PASSWORD\"),\n",
    "        database=os.getenv(\"NEO4J_DATABASE\"),\n",
    "        index_name='description',\n",
    "        node_label=entity_type,\n",
    "        text_node_properties=['value'],\n",
    "        embedding_node_property='embedding'\n",
    "    )\n",
    "    vector_indexes.append(vector_index)\n",
    "    \n",
    "unique_entity_types = set(item.get(\"entity_type\", None) for item in jsonData_relations if \"entity_type\" in item)\n",
    "\n",
    "for t in unique_entity_types:\n",
    "    embed_entities(t)\n",
    "\n",
    "#If you have an existing vector index in Neo4j with populated data, you can use the from_existing_method to connect to it.\n",
    "#existing_index = Neo4jVector.from_existing_index()"
   ]
  }
 ],
 "metadata": {
  "kernelspec": {
   "display_name": "venv",
   "language": "python",
   "name": "python3"
  },
  "language_info": {
   "codemirror_mode": {
    "name": "ipython",
    "version": 3
   },
   "file_extension": ".py",
   "mimetype": "text/x-python",
   "name": "python",
   "nbconvert_exporter": "python",
   "pygments_lexer": "ipython3",
   "version": "3.9.6"
  }
 },
 "nbformat": 4,
 "nbformat_minor": 2
}
